{
  "cells": [
    {
      "cell_type": "code",
      "execution_count": 37,
      "id": "edb18423-1364-4684-97f1-96976db0b394",
      "metadata": {
        "id": "edb18423-1364-4684-97f1-96976db0b394"
      },
      "outputs": [],
      "source": [
        "import pandas as pd\n",
        "import numpy as np\n",
        "import matplotlib.pyplot as plt"
      ]
    },
    {
      "cell_type": "code",
      "execution_count": 38,
      "id": "f59cfb2e-9574-4d2f-b9f6-324d6eef577a",
      "metadata": {
        "id": "f59cfb2e-9574-4d2f-b9f6-324d6eef577a"
      },
      "outputs": [],
      "source": [
        "df = pd.read_csv(\"Flight_dataset.csv\")"
      ]
    },
    {
      "cell_type": "code",
      "execution_count": 39,
      "id": "c63dc75f-2f87-4cbe-8386-e2d122cc574a",
      "metadata": {
        "colab": {
          "base_uri": "https://localhost:8080/",
          "height": 313
        },
        "id": "c63dc75f-2f87-4cbe-8386-e2d122cc574a",
        "outputId": "628a7a4f-8fc4-4c62-c55f-9d230209ceda"
      },
      "outputs": [
        {
          "output_type": "execute_result",
          "data": {
            "text/plain": [
              "   Unnamed: 0   airline   flight source_city departure_time stops  \\\n",
              "0           0  SpiceJet  SG-8709       Delhi        Evening  zero   \n",
              "1           1  SpiceJet  SG-8157       Delhi  Early_Morning  zero   \n",
              "2           2   AirAsia   I5-764       Delhi  Early_Morning  zero   \n",
              "3           3   Vistara   UK-995       Delhi        Morning  zero   \n",
              "4           4   Vistara   UK-963       Delhi        Morning  zero   \n",
              "\n",
              "    arrival_time destination_city    class  duration  days_left  price  \n",
              "0          Night           Mumbai  Economy      2.17          1   5953  \n",
              "1        Morning           Mumbai  Economy      2.33          1   5953  \n",
              "2  Early_Morning           Mumbai  Economy      2.17          1   5956  \n",
              "3      Afternoon           Mumbai  Economy      2.25          1   5955  \n",
              "4        Morning           Mumbai  Economy      2.33          1   5955  "
            ],
            "text/html": [
              "\n",
              "  <div id=\"df-3f39fd8d-00d0-49fe-ac57-7567a5282694\" class=\"colab-df-container\">\n",
              "    <div>\n",
              "<style scoped>\n",
              "    .dataframe tbody tr th:only-of-type {\n",
              "        vertical-align: middle;\n",
              "    }\n",
              "\n",
              "    .dataframe tbody tr th {\n",
              "        vertical-align: top;\n",
              "    }\n",
              "\n",
              "    .dataframe thead th {\n",
              "        text-align: right;\n",
              "    }\n",
              "</style>\n",
              "<table border=\"1\" class=\"dataframe\">\n",
              "  <thead>\n",
              "    <tr style=\"text-align: right;\">\n",
              "      <th></th>\n",
              "      <th>Unnamed: 0</th>\n",
              "      <th>airline</th>\n",
              "      <th>flight</th>\n",
              "      <th>source_city</th>\n",
              "      <th>departure_time</th>\n",
              "      <th>stops</th>\n",
              "      <th>arrival_time</th>\n",
              "      <th>destination_city</th>\n",
              "      <th>class</th>\n",
              "      <th>duration</th>\n",
              "      <th>days_left</th>\n",
              "      <th>price</th>\n",
              "    </tr>\n",
              "  </thead>\n",
              "  <tbody>\n",
              "    <tr>\n",
              "      <th>0</th>\n",
              "      <td>0</td>\n",
              "      <td>SpiceJet</td>\n",
              "      <td>SG-8709</td>\n",
              "      <td>Delhi</td>\n",
              "      <td>Evening</td>\n",
              "      <td>zero</td>\n",
              "      <td>Night</td>\n",
              "      <td>Mumbai</td>\n",
              "      <td>Economy</td>\n",
              "      <td>2.17</td>\n",
              "      <td>1</td>\n",
              "      <td>5953</td>\n",
              "    </tr>\n",
              "    <tr>\n",
              "      <th>1</th>\n",
              "      <td>1</td>\n",
              "      <td>SpiceJet</td>\n",
              "      <td>SG-8157</td>\n",
              "      <td>Delhi</td>\n",
              "      <td>Early_Morning</td>\n",
              "      <td>zero</td>\n",
              "      <td>Morning</td>\n",
              "      <td>Mumbai</td>\n",
              "      <td>Economy</td>\n",
              "      <td>2.33</td>\n",
              "      <td>1</td>\n",
              "      <td>5953</td>\n",
              "    </tr>\n",
              "    <tr>\n",
              "      <th>2</th>\n",
              "      <td>2</td>\n",
              "      <td>AirAsia</td>\n",
              "      <td>I5-764</td>\n",
              "      <td>Delhi</td>\n",
              "      <td>Early_Morning</td>\n",
              "      <td>zero</td>\n",
              "      <td>Early_Morning</td>\n",
              "      <td>Mumbai</td>\n",
              "      <td>Economy</td>\n",
              "      <td>2.17</td>\n",
              "      <td>1</td>\n",
              "      <td>5956</td>\n",
              "    </tr>\n",
              "    <tr>\n",
              "      <th>3</th>\n",
              "      <td>3</td>\n",
              "      <td>Vistara</td>\n",
              "      <td>UK-995</td>\n",
              "      <td>Delhi</td>\n",
              "      <td>Morning</td>\n",
              "      <td>zero</td>\n",
              "      <td>Afternoon</td>\n",
              "      <td>Mumbai</td>\n",
              "      <td>Economy</td>\n",
              "      <td>2.25</td>\n",
              "      <td>1</td>\n",
              "      <td>5955</td>\n",
              "    </tr>\n",
              "    <tr>\n",
              "      <th>4</th>\n",
              "      <td>4</td>\n",
              "      <td>Vistara</td>\n",
              "      <td>UK-963</td>\n",
              "      <td>Delhi</td>\n",
              "      <td>Morning</td>\n",
              "      <td>zero</td>\n",
              "      <td>Morning</td>\n",
              "      <td>Mumbai</td>\n",
              "      <td>Economy</td>\n",
              "      <td>2.33</td>\n",
              "      <td>1</td>\n",
              "      <td>5955</td>\n",
              "    </tr>\n",
              "  </tbody>\n",
              "</table>\n",
              "</div>\n",
              "    <div class=\"colab-df-buttons\">\n",
              "\n",
              "  <div class=\"colab-df-container\">\n",
              "    <button class=\"colab-df-convert\" onclick=\"convertToInteractive('df-3f39fd8d-00d0-49fe-ac57-7567a5282694')\"\n",
              "            title=\"Convert this dataframe to an interactive table.\"\n",
              "            style=\"display:none;\">\n",
              "\n",
              "  <svg xmlns=\"http://www.w3.org/2000/svg\" height=\"24px\" viewBox=\"0 -960 960 960\">\n",
              "    <path d=\"M120-120v-720h720v720H120Zm60-500h600v-160H180v160Zm220 220h160v-160H400v160Zm0 220h160v-160H400v160ZM180-400h160v-160H180v160Zm440 0h160v-160H620v160ZM180-180h160v-160H180v160Zm440 0h160v-160H620v160Z\"/>\n",
              "  </svg>\n",
              "    </button>\n",
              "\n",
              "  <style>\n",
              "    .colab-df-container {\n",
              "      display:flex;\n",
              "      gap: 12px;\n",
              "    }\n",
              "\n",
              "    .colab-df-convert {\n",
              "      background-color: #E8F0FE;\n",
              "      border: none;\n",
              "      border-radius: 50%;\n",
              "      cursor: pointer;\n",
              "      display: none;\n",
              "      fill: #1967D2;\n",
              "      height: 32px;\n",
              "      padding: 0 0 0 0;\n",
              "      width: 32px;\n",
              "    }\n",
              "\n",
              "    .colab-df-convert:hover {\n",
              "      background-color: #E2EBFA;\n",
              "      box-shadow: 0px 1px 2px rgba(60, 64, 67, 0.3), 0px 1px 3px 1px rgba(60, 64, 67, 0.15);\n",
              "      fill: #174EA6;\n",
              "    }\n",
              "\n",
              "    .colab-df-buttons div {\n",
              "      margin-bottom: 4px;\n",
              "    }\n",
              "\n",
              "    [theme=dark] .colab-df-convert {\n",
              "      background-color: #3B4455;\n",
              "      fill: #D2E3FC;\n",
              "    }\n",
              "\n",
              "    [theme=dark] .colab-df-convert:hover {\n",
              "      background-color: #434B5C;\n",
              "      box-shadow: 0px 1px 3px 1px rgba(0, 0, 0, 0.15);\n",
              "      filter: drop-shadow(0px 1px 2px rgba(0, 0, 0, 0.3));\n",
              "      fill: #FFFFFF;\n",
              "    }\n",
              "  </style>\n",
              "\n",
              "    <script>\n",
              "      const buttonEl =\n",
              "        document.querySelector('#df-3f39fd8d-00d0-49fe-ac57-7567a5282694 button.colab-df-convert');\n",
              "      buttonEl.style.display =\n",
              "        google.colab.kernel.accessAllowed ? 'block' : 'none';\n",
              "\n",
              "      async function convertToInteractive(key) {\n",
              "        const element = document.querySelector('#df-3f39fd8d-00d0-49fe-ac57-7567a5282694');\n",
              "        const dataTable =\n",
              "          await google.colab.kernel.invokeFunction('convertToInteractive',\n",
              "                                                    [key], {});\n",
              "        if (!dataTable) return;\n",
              "\n",
              "        const docLinkHtml = 'Like what you see? Visit the ' +\n",
              "          '<a target=\"_blank\" href=https://colab.research.google.com/notebooks/data_table.ipynb>data table notebook</a>'\n",
              "          + ' to learn more about interactive tables.';\n",
              "        element.innerHTML = '';\n",
              "        dataTable['output_type'] = 'display_data';\n",
              "        await google.colab.output.renderOutput(dataTable, element);\n",
              "        const docLink = document.createElement('div');\n",
              "        docLink.innerHTML = docLinkHtml;\n",
              "        element.appendChild(docLink);\n",
              "      }\n",
              "    </script>\n",
              "  </div>\n",
              "\n",
              "\n",
              "    <div id=\"df-c88dc34d-c1a3-4816-a216-fd3c57a36315\">\n",
              "      <button class=\"colab-df-quickchart\" onclick=\"quickchart('df-c88dc34d-c1a3-4816-a216-fd3c57a36315')\"\n",
              "                title=\"Suggest charts\"\n",
              "                style=\"display:none;\">\n",
              "\n",
              "<svg xmlns=\"http://www.w3.org/2000/svg\" height=\"24px\"viewBox=\"0 0 24 24\"\n",
              "     width=\"24px\">\n",
              "    <g>\n",
              "        <path d=\"M19 3H5c-1.1 0-2 .9-2 2v14c0 1.1.9 2 2 2h14c1.1 0 2-.9 2-2V5c0-1.1-.9-2-2-2zM9 17H7v-7h2v7zm4 0h-2V7h2v10zm4 0h-2v-4h2v4z\"/>\n",
              "    </g>\n",
              "</svg>\n",
              "      </button>\n",
              "\n",
              "<style>\n",
              "  .colab-df-quickchart {\n",
              "      --bg-color: #E8F0FE;\n",
              "      --fill-color: #1967D2;\n",
              "      --hover-bg-color: #E2EBFA;\n",
              "      --hover-fill-color: #174EA6;\n",
              "      --disabled-fill-color: #AAA;\n",
              "      --disabled-bg-color: #DDD;\n",
              "  }\n",
              "\n",
              "  [theme=dark] .colab-df-quickchart {\n",
              "      --bg-color: #3B4455;\n",
              "      --fill-color: #D2E3FC;\n",
              "      --hover-bg-color: #434B5C;\n",
              "      --hover-fill-color: #FFFFFF;\n",
              "      --disabled-bg-color: #3B4455;\n",
              "      --disabled-fill-color: #666;\n",
              "  }\n",
              "\n",
              "  .colab-df-quickchart {\n",
              "    background-color: var(--bg-color);\n",
              "    border: none;\n",
              "    border-radius: 50%;\n",
              "    cursor: pointer;\n",
              "    display: none;\n",
              "    fill: var(--fill-color);\n",
              "    height: 32px;\n",
              "    padding: 0;\n",
              "    width: 32px;\n",
              "  }\n",
              "\n",
              "  .colab-df-quickchart:hover {\n",
              "    background-color: var(--hover-bg-color);\n",
              "    box-shadow: 0 1px 2px rgba(60, 64, 67, 0.3), 0 1px 3px 1px rgba(60, 64, 67, 0.15);\n",
              "    fill: var(--button-hover-fill-color);\n",
              "  }\n",
              "\n",
              "  .colab-df-quickchart-complete:disabled,\n",
              "  .colab-df-quickchart-complete:disabled:hover {\n",
              "    background-color: var(--disabled-bg-color);\n",
              "    fill: var(--disabled-fill-color);\n",
              "    box-shadow: none;\n",
              "  }\n",
              "\n",
              "  .colab-df-spinner {\n",
              "    border: 2px solid var(--fill-color);\n",
              "    border-color: transparent;\n",
              "    border-bottom-color: var(--fill-color);\n",
              "    animation:\n",
              "      spin 1s steps(1) infinite;\n",
              "  }\n",
              "\n",
              "  @keyframes spin {\n",
              "    0% {\n",
              "      border-color: transparent;\n",
              "      border-bottom-color: var(--fill-color);\n",
              "      border-left-color: var(--fill-color);\n",
              "    }\n",
              "    20% {\n",
              "      border-color: transparent;\n",
              "      border-left-color: var(--fill-color);\n",
              "      border-top-color: var(--fill-color);\n",
              "    }\n",
              "    30% {\n",
              "      border-color: transparent;\n",
              "      border-left-color: var(--fill-color);\n",
              "      border-top-color: var(--fill-color);\n",
              "      border-right-color: var(--fill-color);\n",
              "    }\n",
              "    40% {\n",
              "      border-color: transparent;\n",
              "      border-right-color: var(--fill-color);\n",
              "      border-top-color: var(--fill-color);\n",
              "    }\n",
              "    60% {\n",
              "      border-color: transparent;\n",
              "      border-right-color: var(--fill-color);\n",
              "    }\n",
              "    80% {\n",
              "      border-color: transparent;\n",
              "      border-right-color: var(--fill-color);\n",
              "      border-bottom-color: var(--fill-color);\n",
              "    }\n",
              "    90% {\n",
              "      border-color: transparent;\n",
              "      border-bottom-color: var(--fill-color);\n",
              "    }\n",
              "  }\n",
              "</style>\n",
              "\n",
              "      <script>\n",
              "        async function quickchart(key) {\n",
              "          const quickchartButtonEl =\n",
              "            document.querySelector('#' + key + ' button');\n",
              "          quickchartButtonEl.disabled = true;  // To prevent multiple clicks.\n",
              "          quickchartButtonEl.classList.add('colab-df-spinner');\n",
              "          try {\n",
              "            const charts = await google.colab.kernel.invokeFunction(\n",
              "                'suggestCharts', [key], {});\n",
              "          } catch (error) {\n",
              "            console.error('Error during call to suggestCharts:', error);\n",
              "          }\n",
              "          quickchartButtonEl.classList.remove('colab-df-spinner');\n",
              "          quickchartButtonEl.classList.add('colab-df-quickchart-complete');\n",
              "        }\n",
              "        (() => {\n",
              "          let quickchartButtonEl =\n",
              "            document.querySelector('#df-c88dc34d-c1a3-4816-a216-fd3c57a36315 button');\n",
              "          quickchartButtonEl.style.display =\n",
              "            google.colab.kernel.accessAllowed ? 'block' : 'none';\n",
              "        })();\n",
              "      </script>\n",
              "    </div>\n",
              "\n",
              "    </div>\n",
              "  </div>\n"
            ],
            "application/vnd.google.colaboratory.intrinsic+json": {
              "type": "dataframe",
              "variable_name": "df"
            }
          },
          "metadata": {},
          "execution_count": 39
        }
      ],
      "source": [
        "df.head()"
      ]
    },
    {
      "cell_type": "code",
      "execution_count": 40,
      "id": "80af7aa3-8dad-4d1e-a075-4266b92dfe77",
      "metadata": {
        "colab": {
          "base_uri": "https://localhost:8080/"
        },
        "id": "80af7aa3-8dad-4d1e-a075-4266b92dfe77",
        "outputId": "388a74df-ad83-49d4-90fd-f58af09165e6"
      },
      "outputs": [
        {
          "output_type": "execute_result",
          "data": {
            "text/plain": [
              "(300153, 12)"
            ]
          },
          "metadata": {},
          "execution_count": 40
        }
      ],
      "source": [
        "df.shape"
      ]
    },
    {
      "cell_type": "code",
      "execution_count": 41,
      "id": "6f336b3d-00d8-44a3-a2ca-6899ac6dd933",
      "metadata": {
        "colab": {
          "base_uri": "https://localhost:8080/",
          "height": 300
        },
        "id": "6f336b3d-00d8-44a3-a2ca-6899ac6dd933",
        "outputId": "c20ac68c-79cb-4fa2-810e-2728ae486bd1"
      },
      "outputs": [
        {
          "output_type": "execute_result",
          "data": {
            "text/plain": [
              "          Unnamed: 0       duration      days_left          price\n",
              "count  300153.000000  300153.000000  300153.000000  300153.000000\n",
              "mean   150076.000000      12.221021      26.004751   20889.660523\n",
              "std     86646.852011       7.191997      13.561004   22697.767366\n",
              "min         0.000000       0.830000       1.000000    1105.000000\n",
              "25%     75038.000000       6.830000      15.000000    4783.000000\n",
              "50%    150076.000000      11.250000      26.000000    7425.000000\n",
              "75%    225114.000000      16.170000      38.000000   42521.000000\n",
              "max    300152.000000      49.830000      49.000000  123071.000000"
            ],
            "text/html": [
              "\n",
              "  <div id=\"df-f4dfd7ce-ffc5-4782-b198-965f051bef53\" class=\"colab-df-container\">\n",
              "    <div>\n",
              "<style scoped>\n",
              "    .dataframe tbody tr th:only-of-type {\n",
              "        vertical-align: middle;\n",
              "    }\n",
              "\n",
              "    .dataframe tbody tr th {\n",
              "        vertical-align: top;\n",
              "    }\n",
              "\n",
              "    .dataframe thead th {\n",
              "        text-align: right;\n",
              "    }\n",
              "</style>\n",
              "<table border=\"1\" class=\"dataframe\">\n",
              "  <thead>\n",
              "    <tr style=\"text-align: right;\">\n",
              "      <th></th>\n",
              "      <th>Unnamed: 0</th>\n",
              "      <th>duration</th>\n",
              "      <th>days_left</th>\n",
              "      <th>price</th>\n",
              "    </tr>\n",
              "  </thead>\n",
              "  <tbody>\n",
              "    <tr>\n",
              "      <th>count</th>\n",
              "      <td>300153.000000</td>\n",
              "      <td>300153.000000</td>\n",
              "      <td>300153.000000</td>\n",
              "      <td>300153.000000</td>\n",
              "    </tr>\n",
              "    <tr>\n",
              "      <th>mean</th>\n",
              "      <td>150076.000000</td>\n",
              "      <td>12.221021</td>\n",
              "      <td>26.004751</td>\n",
              "      <td>20889.660523</td>\n",
              "    </tr>\n",
              "    <tr>\n",
              "      <th>std</th>\n",
              "      <td>86646.852011</td>\n",
              "      <td>7.191997</td>\n",
              "      <td>13.561004</td>\n",
              "      <td>22697.767366</td>\n",
              "    </tr>\n",
              "    <tr>\n",
              "      <th>min</th>\n",
              "      <td>0.000000</td>\n",
              "      <td>0.830000</td>\n",
              "      <td>1.000000</td>\n",
              "      <td>1105.000000</td>\n",
              "    </tr>\n",
              "    <tr>\n",
              "      <th>25%</th>\n",
              "      <td>75038.000000</td>\n",
              "      <td>6.830000</td>\n",
              "      <td>15.000000</td>\n",
              "      <td>4783.000000</td>\n",
              "    </tr>\n",
              "    <tr>\n",
              "      <th>50%</th>\n",
              "      <td>150076.000000</td>\n",
              "      <td>11.250000</td>\n",
              "      <td>26.000000</td>\n",
              "      <td>7425.000000</td>\n",
              "    </tr>\n",
              "    <tr>\n",
              "      <th>75%</th>\n",
              "      <td>225114.000000</td>\n",
              "      <td>16.170000</td>\n",
              "      <td>38.000000</td>\n",
              "      <td>42521.000000</td>\n",
              "    </tr>\n",
              "    <tr>\n",
              "      <th>max</th>\n",
              "      <td>300152.000000</td>\n",
              "      <td>49.830000</td>\n",
              "      <td>49.000000</td>\n",
              "      <td>123071.000000</td>\n",
              "    </tr>\n",
              "  </tbody>\n",
              "</table>\n",
              "</div>\n",
              "    <div class=\"colab-df-buttons\">\n",
              "\n",
              "  <div class=\"colab-df-container\">\n",
              "    <button class=\"colab-df-convert\" onclick=\"convertToInteractive('df-f4dfd7ce-ffc5-4782-b198-965f051bef53')\"\n",
              "            title=\"Convert this dataframe to an interactive table.\"\n",
              "            style=\"display:none;\">\n",
              "\n",
              "  <svg xmlns=\"http://www.w3.org/2000/svg\" height=\"24px\" viewBox=\"0 -960 960 960\">\n",
              "    <path d=\"M120-120v-720h720v720H120Zm60-500h600v-160H180v160Zm220 220h160v-160H400v160Zm0 220h160v-160H400v160ZM180-400h160v-160H180v160Zm440 0h160v-160H620v160ZM180-180h160v-160H180v160Zm440 0h160v-160H620v160Z\"/>\n",
              "  </svg>\n",
              "    </button>\n",
              "\n",
              "  <style>\n",
              "    .colab-df-container {\n",
              "      display:flex;\n",
              "      gap: 12px;\n",
              "    }\n",
              "\n",
              "    .colab-df-convert {\n",
              "      background-color: #E8F0FE;\n",
              "      border: none;\n",
              "      border-radius: 50%;\n",
              "      cursor: pointer;\n",
              "      display: none;\n",
              "      fill: #1967D2;\n",
              "      height: 32px;\n",
              "      padding: 0 0 0 0;\n",
              "      width: 32px;\n",
              "    }\n",
              "\n",
              "    .colab-df-convert:hover {\n",
              "      background-color: #E2EBFA;\n",
              "      box-shadow: 0px 1px 2px rgba(60, 64, 67, 0.3), 0px 1px 3px 1px rgba(60, 64, 67, 0.15);\n",
              "      fill: #174EA6;\n",
              "    }\n",
              "\n",
              "    .colab-df-buttons div {\n",
              "      margin-bottom: 4px;\n",
              "    }\n",
              "\n",
              "    [theme=dark] .colab-df-convert {\n",
              "      background-color: #3B4455;\n",
              "      fill: #D2E3FC;\n",
              "    }\n",
              "\n",
              "    [theme=dark] .colab-df-convert:hover {\n",
              "      background-color: #434B5C;\n",
              "      box-shadow: 0px 1px 3px 1px rgba(0, 0, 0, 0.15);\n",
              "      filter: drop-shadow(0px 1px 2px rgba(0, 0, 0, 0.3));\n",
              "      fill: #FFFFFF;\n",
              "    }\n",
              "  </style>\n",
              "\n",
              "    <script>\n",
              "      const buttonEl =\n",
              "        document.querySelector('#df-f4dfd7ce-ffc5-4782-b198-965f051bef53 button.colab-df-convert');\n",
              "      buttonEl.style.display =\n",
              "        google.colab.kernel.accessAllowed ? 'block' : 'none';\n",
              "\n",
              "      async function convertToInteractive(key) {\n",
              "        const element = document.querySelector('#df-f4dfd7ce-ffc5-4782-b198-965f051bef53');\n",
              "        const dataTable =\n",
              "          await google.colab.kernel.invokeFunction('convertToInteractive',\n",
              "                                                    [key], {});\n",
              "        if (!dataTable) return;\n",
              "\n",
              "        const docLinkHtml = 'Like what you see? Visit the ' +\n",
              "          '<a target=\"_blank\" href=https://colab.research.google.com/notebooks/data_table.ipynb>data table notebook</a>'\n",
              "          + ' to learn more about interactive tables.';\n",
              "        element.innerHTML = '';\n",
              "        dataTable['output_type'] = 'display_data';\n",
              "        await google.colab.output.renderOutput(dataTable, element);\n",
              "        const docLink = document.createElement('div');\n",
              "        docLink.innerHTML = docLinkHtml;\n",
              "        element.appendChild(docLink);\n",
              "      }\n",
              "    </script>\n",
              "  </div>\n",
              "\n",
              "\n",
              "    <div id=\"df-65ad13f8-b397-45e8-aa20-c9ace29d1bef\">\n",
              "      <button class=\"colab-df-quickchart\" onclick=\"quickchart('df-65ad13f8-b397-45e8-aa20-c9ace29d1bef')\"\n",
              "                title=\"Suggest charts\"\n",
              "                style=\"display:none;\">\n",
              "\n",
              "<svg xmlns=\"http://www.w3.org/2000/svg\" height=\"24px\"viewBox=\"0 0 24 24\"\n",
              "     width=\"24px\">\n",
              "    <g>\n",
              "        <path d=\"M19 3H5c-1.1 0-2 .9-2 2v14c0 1.1.9 2 2 2h14c1.1 0 2-.9 2-2V5c0-1.1-.9-2-2-2zM9 17H7v-7h2v7zm4 0h-2V7h2v10zm4 0h-2v-4h2v4z\"/>\n",
              "    </g>\n",
              "</svg>\n",
              "      </button>\n",
              "\n",
              "<style>\n",
              "  .colab-df-quickchart {\n",
              "      --bg-color: #E8F0FE;\n",
              "      --fill-color: #1967D2;\n",
              "      --hover-bg-color: #E2EBFA;\n",
              "      --hover-fill-color: #174EA6;\n",
              "      --disabled-fill-color: #AAA;\n",
              "      --disabled-bg-color: #DDD;\n",
              "  }\n",
              "\n",
              "  [theme=dark] .colab-df-quickchart {\n",
              "      --bg-color: #3B4455;\n",
              "      --fill-color: #D2E3FC;\n",
              "      --hover-bg-color: #434B5C;\n",
              "      --hover-fill-color: #FFFFFF;\n",
              "      --disabled-bg-color: #3B4455;\n",
              "      --disabled-fill-color: #666;\n",
              "  }\n",
              "\n",
              "  .colab-df-quickchart {\n",
              "    background-color: var(--bg-color);\n",
              "    border: none;\n",
              "    border-radius: 50%;\n",
              "    cursor: pointer;\n",
              "    display: none;\n",
              "    fill: var(--fill-color);\n",
              "    height: 32px;\n",
              "    padding: 0;\n",
              "    width: 32px;\n",
              "  }\n",
              "\n",
              "  .colab-df-quickchart:hover {\n",
              "    background-color: var(--hover-bg-color);\n",
              "    box-shadow: 0 1px 2px rgba(60, 64, 67, 0.3), 0 1px 3px 1px rgba(60, 64, 67, 0.15);\n",
              "    fill: var(--button-hover-fill-color);\n",
              "  }\n",
              "\n",
              "  .colab-df-quickchart-complete:disabled,\n",
              "  .colab-df-quickchart-complete:disabled:hover {\n",
              "    background-color: var(--disabled-bg-color);\n",
              "    fill: var(--disabled-fill-color);\n",
              "    box-shadow: none;\n",
              "  }\n",
              "\n",
              "  .colab-df-spinner {\n",
              "    border: 2px solid var(--fill-color);\n",
              "    border-color: transparent;\n",
              "    border-bottom-color: var(--fill-color);\n",
              "    animation:\n",
              "      spin 1s steps(1) infinite;\n",
              "  }\n",
              "\n",
              "  @keyframes spin {\n",
              "    0% {\n",
              "      border-color: transparent;\n",
              "      border-bottom-color: var(--fill-color);\n",
              "      border-left-color: var(--fill-color);\n",
              "    }\n",
              "    20% {\n",
              "      border-color: transparent;\n",
              "      border-left-color: var(--fill-color);\n",
              "      border-top-color: var(--fill-color);\n",
              "    }\n",
              "    30% {\n",
              "      border-color: transparent;\n",
              "      border-left-color: var(--fill-color);\n",
              "      border-top-color: var(--fill-color);\n",
              "      border-right-color: var(--fill-color);\n",
              "    }\n",
              "    40% {\n",
              "      border-color: transparent;\n",
              "      border-right-color: var(--fill-color);\n",
              "      border-top-color: var(--fill-color);\n",
              "    }\n",
              "    60% {\n",
              "      border-color: transparent;\n",
              "      border-right-color: var(--fill-color);\n",
              "    }\n",
              "    80% {\n",
              "      border-color: transparent;\n",
              "      border-right-color: var(--fill-color);\n",
              "      border-bottom-color: var(--fill-color);\n",
              "    }\n",
              "    90% {\n",
              "      border-color: transparent;\n",
              "      border-bottom-color: var(--fill-color);\n",
              "    }\n",
              "  }\n",
              "</style>\n",
              "\n",
              "      <script>\n",
              "        async function quickchart(key) {\n",
              "          const quickchartButtonEl =\n",
              "            document.querySelector('#' + key + ' button');\n",
              "          quickchartButtonEl.disabled = true;  // To prevent multiple clicks.\n",
              "          quickchartButtonEl.classList.add('colab-df-spinner');\n",
              "          try {\n",
              "            const charts = await google.colab.kernel.invokeFunction(\n",
              "                'suggestCharts', [key], {});\n",
              "          } catch (error) {\n",
              "            console.error('Error during call to suggestCharts:', error);\n",
              "          }\n",
              "          quickchartButtonEl.classList.remove('colab-df-spinner');\n",
              "          quickchartButtonEl.classList.add('colab-df-quickchart-complete');\n",
              "        }\n",
              "        (() => {\n",
              "          let quickchartButtonEl =\n",
              "            document.querySelector('#df-65ad13f8-b397-45e8-aa20-c9ace29d1bef button');\n",
              "          quickchartButtonEl.style.display =\n",
              "            google.colab.kernel.accessAllowed ? 'block' : 'none';\n",
              "        })();\n",
              "      </script>\n",
              "    </div>\n",
              "\n",
              "    </div>\n",
              "  </div>\n"
            ],
            "application/vnd.google.colaboratory.intrinsic+json": {
              "type": "dataframe",
              "summary": "{\n  \"name\": \"df\",\n  \"rows\": 8,\n  \"fields\": [\n    {\n      \"column\": \"Unnamed: 0\",\n      \"properties\": {\n        \"dtype\": \"number\",\n        \"std\": 108176.37443497643,\n        \"min\": 0.0,\n        \"max\": 300153.0,\n        \"num_unique_values\": 7,\n        \"samples\": [\n          300153.0,\n          150076.0,\n          225114.0\n        ],\n        \"semantic_type\": \"\",\n        \"description\": \"\"\n      }\n    },\n    {\n      \"column\": \"duration\",\n      \"properties\": {\n        \"dtype\": \"number\",\n        \"std\": 106114.84279188853,\n        \"min\": 0.83,\n        \"max\": 300153.0,\n        \"num_unique_values\": 8,\n        \"samples\": [\n          12.221020812718846,\n          11.25,\n          300153.0\n        ],\n        \"semantic_type\": \"\",\n        \"description\": \"\"\n      }\n    },\n    {\n      \"column\": \"days_left\",\n      \"properties\": {\n        \"dtype\": \"number\",\n        \"std\": 106111.59803243961,\n        \"min\": 1.0,\n        \"max\": 300153.0,\n        \"num_unique_values\": 8,\n        \"samples\": [\n          26.004750910369044,\n          26.0,\n          300153.0\n        ],\n        \"semantic_type\": \"\",\n        \"description\": \"\"\n      }\n    },\n    {\n      \"column\": \"price\",\n      \"properties\": {\n        \"dtype\": \"number\",\n        \"std\": 102770.44098272717,\n        \"min\": 1105.0,\n        \"max\": 300153.0,\n        \"num_unique_values\": 8,\n        \"samples\": [\n          20889.660523133203,\n          7425.0,\n          300153.0\n        ],\n        \"semantic_type\": \"\",\n        \"description\": \"\"\n      }\n    }\n  ]\n}"
            }
          },
          "metadata": {},
          "execution_count": 41
        }
      ],
      "source": [
        "df.describe()"
      ]
    },
    {
      "cell_type": "code",
      "execution_count": 42,
      "id": "374c974a-4605-428c-9c8f-4bc7cf5f4c0c",
      "metadata": {
        "id": "374c974a-4605-428c-9c8f-4bc7cf5f4c0c"
      },
      "outputs": [],
      "source": [
        "df.drop([\"Unnamed: 0\",\"flight\",\"duration\"],axis=1, inplace = True)"
      ]
    },
    {
      "cell_type": "code",
      "execution_count": 43,
      "id": "6c4fbba7-c67b-4c8c-87e7-ae6e34932d3b",
      "metadata": {
        "colab": {
          "base_uri": "https://localhost:8080/"
        },
        "id": "6c4fbba7-c67b-4c8c-87e7-ae6e34932d3b",
        "outputId": "b7643a52-1e97-4aef-b031-d1e25237be9c"
      },
      "outputs": [
        {
          "output_type": "stream",
          "name": "stdout",
          "text": [
            "<class 'pandas.core.frame.DataFrame'>\n",
            "RangeIndex: 300153 entries, 0 to 300152\n",
            "Data columns (total 9 columns):\n",
            " #   Column            Non-Null Count   Dtype \n",
            "---  ------            --------------   ----- \n",
            " 0   airline           300153 non-null  object\n",
            " 1   source_city       300153 non-null  object\n",
            " 2   departure_time    300153 non-null  object\n",
            " 3   stops             300153 non-null  object\n",
            " 4   arrival_time      300153 non-null  object\n",
            " 5   destination_city  300153 non-null  object\n",
            " 6   class             300153 non-null  object\n",
            " 7   days_left         300153 non-null  int64 \n",
            " 8   price             300153 non-null  int64 \n",
            "dtypes: int64(2), object(7)\n",
            "memory usage: 20.6+ MB\n"
          ]
        }
      ],
      "source": [
        "df.info()"
      ]
    },
    {
      "cell_type": "code",
      "execution_count": 44,
      "id": "41e04470-4017-4ce8-97c7-48ef8297d55e",
      "metadata": {
        "colab": {
          "base_uri": "https://localhost:8080/"
        },
        "id": "41e04470-4017-4ce8-97c7-48ef8297d55e",
        "outputId": "bd96689c-25e7-4049-88a7-e6219c3a7413"
      },
      "outputs": [
        {
          "output_type": "execute_result",
          "data": {
            "text/plain": [
              "array(['SpiceJet', 'AirAsia', 'Vistara', 'GO_FIRST', 'Indigo',\n",
              "       'Air_India'], dtype=object)"
            ]
          },
          "metadata": {},
          "execution_count": 44
        }
      ],
      "source": [
        "df['airline'].unique()"
      ]
    },
    {
      "cell_type": "code",
      "execution_count": 45,
      "id": "ba2524bb-a09d-4f66-bb3f-420b4145dd3a",
      "metadata": {
        "colab": {
          "base_uri": "https://localhost:8080/",
          "height": 520
        },
        "id": "ba2524bb-a09d-4f66-bb3f-420b4145dd3a",
        "outputId": "7da93cb7-157a-425c-e40b-462cca76b8d1"
      },
      "outputs": [
        {
          "output_type": "execute_result",
          "data": {
            "text/plain": [
              "<Axes: xlabel='airline'>"
            ]
          },
          "metadata": {},
          "execution_count": 45
        },
        {
          "output_type": "display_data",
          "data": {
            "text/plain": [
              "<Figure size 640x480 with 1 Axes>"
            ],
            "image/png": "[encoded data removed]"
          },
          "metadata": {}
        }
      ],
      "source": [
        "df.groupby('airline')['price'].mean().sort_values().plot(kind = ('bar'))"
      ]
    },
    {
      "cell_type": "code",
      "execution_count": 46,
      "id": "f24270c9-dd0c-48ce-8c4c-4c144bbcf199",
      "metadata": {
        "id": "f24270c9-dd0c-48ce-8c4c-4c144bbcf199"
      },
      "outputs": [],
      "source": [
        "def convertor(x):\n",
        "  if x==\"AirAsia\":\n",
        "    return 0\n",
        "  elif x==\"Indigo\":\n",
        "    return 1\n",
        "  elif x==\"GO_FIRST\":\n",
        "    return 2\n",
        "  elif x==\"SpiceJet\":\n",
        "    return 3\n",
        "  elif x==\"Air_India\":\n",
        "    return 4\n",
        "  else:\n",
        "    return 5\n",
        "df[\"airline\"] =df[\"airline\"].map(convertor)"
      ]
    },
    {
      "cell_type": "code",
      "source": [
        "df[\"airline\"].unique()"
      ],
      "metadata": {
        "colab": {
          "base_uri": "https://localhost:8080/"
        },
        "id": "Ns05D16gqcr5",
        "outputId": "de9b9b82-2d0c-476f-d327-8d09294e742f"
      },
      "id": "Ns05D16gqcr5",
      "execution_count": 47,
      "outputs": [
        {
          "output_type": "execute_result",
          "data": {
            "text/plain": [
              "array([3, 0, 5, 2, 1, 4])"
            ]
          },
          "metadata": {},
          "execution_count": 47
        }
      ]
    },
    {
      "cell_type": "code",
      "execution_count": 48,
      "id": "1a0cab82-4b5d-4550-bac1-57d5747f3f75",
      "metadata": {
        "colab": {
          "base_uri": "https://localhost:8080/"
        },
        "id": "1a0cab82-4b5d-4550-bac1-57d5747f3f75",
        "outputId": "5e2f9bbb-c6f6-4fdb-90cd-19b889e61f6f"
      },
      "outputs": [
        {
          "output_type": "execute_result",
          "data": {
            "text/plain": [
              "array(['Economy', 'Business'], dtype=object)"
            ]
          },
          "metadata": {},
          "execution_count": 48
        }
      ],
      "source": [
        "df[\"class\"].unique()"
      ]
    },
    {
      "cell_type": "code",
      "execution_count": 49,
      "id": "b876d0a6-c78a-4bd1-ac87-3ae93399d0fe",
      "metadata": {
        "colab": {
          "base_uri": "https://localhost:8080/",
          "height": 461
        },
        "id": "b876d0a6-c78a-4bd1-ac87-3ae93399d0fe",
        "outputId": "38ad57fa-9c28-4247-de36-14606bf9c03a"
      },
      "outputs": [
        {
          "output_type": "execute_result",
          "data": {
            "text/plain": [
              "<Axes: xlabel='airline'>"
            ]
          },
          "metadata": {},
          "execution_count": 49
        },
        {
          "output_type": "display_data",
          "data": {
            "text/plain": [
              "<Figure size 640x480 with 1 Axes>"
            ],
            "image/png": "[encoded data removed]"
          },
          "metadata": {}
        }
      ],
      "source": [
        "df[df[\"class\"] == \"Economy\"].groupby('airline')['price'].mean().sort_values().plot(kind = ('bar'))"
      ]
    },
    {
      "cell_type": "code",
      "execution_count": 50,
      "id": "0ebefe59-d02f-4e25-823a-62fec8c01c43",
      "metadata": {
        "colab": {
          "base_uri": "https://localhost:8080/",
          "height": 461
        },
        "id": "0ebefe59-d02f-4e25-823a-62fec8c01c43",
        "outputId": "0afe6c13-3956-4b2a-929c-e3e4a68e72df"
      },
      "outputs": [
        {
          "output_type": "execute_result",
          "data": {
            "text/plain": [
              "<Axes: xlabel='airline'>"
            ]
          },
          "metadata": {},
          "execution_count": 50
        },
        {
          "output_type": "display_data",
          "data": {
            "text/plain": [
              "<Figure size 640x480 with 1 Axes>"
            ],
            "image/png": "[encoded data removed]"
          },
          "metadata": {}
        }
      ],
      "source": [
        "df[df[\"class\"] == \"Business\"].groupby('airline')['price'].mean().sort_values().plot(kind = ('bar'))"
      ]
    },
    {
      "cell_type": "code",
      "execution_count": 51,
      "id": "fb8f2476-24b6-4221-917d-28c5b0a4ded7",
      "metadata": {
        "colab": {
          "base_uri": "https://localhost:8080/"
        },
        "id": "fb8f2476-24b6-4221-917d-28c5b0a4ded7",
        "outputId": "e9fae87c-78f4-4697-cbfd-dd8f41d4ee03"
      },
      "outputs": [
        {
          "output_type": "execute_result",
          "data": {
            "text/plain": [
              "array(['Mumbai', 'Bangalore', 'Kolkata', 'Hyderabad', 'Chennai', 'Delhi'],\n",
              "      dtype=object)"
            ]
          },
          "metadata": {},
          "execution_count": 51
        }
      ],
      "source": [
        "df[\"destination_city\"].unique()"
      ]
    },
    {
      "cell_type": "code",
      "execution_count": 52,
      "id": "e3750944-f16d-478b-8d1e-169d4cb69a49",
      "metadata": {
        "colab": {
          "base_uri": "https://localhost:8080/",
          "height": 529
        },
        "id": "e3750944-f16d-478b-8d1e-169d4cb69a49",
        "outputId": "13b583ff-3e4e-43e6-88bc-1553194d0467"
      },
      "outputs": [
        {
          "output_type": "execute_result",
          "data": {
            "text/plain": [
              "<Axes: xlabel='destination_city'>"
            ]
          },
          "metadata": {},
          "execution_count": 52
        },
        {
          "output_type": "display_data",
          "data": {
            "text/plain": [
              "<Figure size 640x480 with 1 Axes>"
            ],
            "image/png": "[encoded data removed]"
          },
          "metadata": {}
        }
      ],
      "source": [
        "df.groupby('destination_city')['price'].mean().sort_values().plot(kind = ('bar'))"
      ]
    },
    {
      "cell_type": "code",
      "execution_count": 53,
      "id": "8612394b-0973-4b27-a3eb-de8a0ab6c812",
      "metadata": {
        "id": "8612394b-0973-4b27-a3eb-de8a0ab6c812"
      },
      "outputs": [],
      "source": [
        "df[\"destination_city\"] = df[\"destination_city\"].map({\"Delhi\":0,\"Hyderabad\":1,\"Mumbai\":2,\"Bangalore\":3,\"Chennai\":4,\"Kolkata\":5})"
      ]
    },
    {
      "cell_type": "code",
      "execution_count": 54,
      "id": "2e79520c-8980-445f-9857-f4fdfe06c0dd",
      "metadata": {
        "colab": {
          "base_uri": "https://localhost:8080/",
          "height": 529
        },
        "id": "2e79520c-8980-445f-9857-f4fdfe06c0dd",
        "outputId": "5de9ca6c-6302-4c58-dbac-d3167aebeff6"
      },
      "outputs": [
        {
          "output_type": "execute_result",
          "data": {
            "text/plain": [
              "<Axes: xlabel='source_city'>"
            ]
          },
          "metadata": {},
          "execution_count": 54
        },
        {
          "output_type": "display_data",
          "data": {
            "text/plain": [
              "<Figure size 640x480 with 1 Axes>"
            ],
            "image/png": "[encoded data removed]"
          },
          "metadata": {}
        }
      ],
      "source": [
        "df.groupby(\"source_city\")[\"price\"].mean().sort_values().plot(kind = (\"bar\"))"
      ]
    },
    {
      "cell_type": "code",
      "execution_count": 55,
      "id": "09948394-514d-40cb-b525-97a380b448a1",
      "metadata": {
        "id": "09948394-514d-40cb-b525-97a380b448a1"
      },
      "outputs": [],
      "source": [
        "df[\"source_city\"] = df[\"source_city\"].map({\"Delhi\":0,\"Hyderabad\":1,\"Bangalore\":2,\"Mumbai\":3,\"Kolkata\":4,\"Chennai\":5})"
      ]
    },
    {
      "cell_type": "code",
      "execution_count": 56,
      "id": "dd8d3560-209b-4305-8979-64263a605a07",
      "metadata": {
        "id": "dd8d3560-209b-4305-8979-64263a605a07"
      },
      "outputs": [],
      "source": [
        "df[\"class\"] = df[\"class\"].map({\"Economy\":0,\"Business\":1})"
      ]
    },
    {
      "cell_type": "code",
      "execution_count": 57,
      "id": "38227002-3953-411e-baa2-aecdf0c1cd6e",
      "metadata": {
        "colab": {
          "base_uri": "https://localhost:8080/"
        },
        "id": "38227002-3953-411e-baa2-aecdf0c1cd6e",
        "outputId": "95448fe8-2a7d-445f-d99f-9bc8124d1919"
      },
      "outputs": [
        {
          "output_type": "execute_result",
          "data": {
            "text/plain": [
              "array(['Night', 'Morning', 'Early_Morning', 'Afternoon', 'Evening',\n",
              "       'Late_Night'], dtype=object)"
            ]
          },
          "metadata": {},
          "execution_count": 57
        }
      ],
      "source": [
        "df[\"arrival_time\"].unique()"
      ]
    },
    {
      "cell_type": "code",
      "execution_count": 58,
      "id": "130e5f81-43e0-497e-afe8-0c7564cbe180",
      "metadata": {
        "id": "130e5f81-43e0-497e-afe8-0c7564cbe180"
      },
      "outputs": [],
      "source": [
        "df[\"arrival_time\"] = df[\"arrival_time\"].map({\"Early_Morning\":0,\"Morning\":1,\"Afternoon\":2,\"Evening\":3,\"Night\":4,\"Late_Night\":5})"
      ]
    },
    {
      "cell_type": "code",
      "execution_count": 59,
      "id": "4b2f29a7-eb79-49f8-8431-722317ff1b45",
      "metadata": {
        "id": "4b2f29a7-eb79-49f8-8431-722317ff1b45"
      },
      "outputs": [],
      "source": [
        "df[\"departure_time\"] = df[\"departure_time\"].map({\"Early_Morning\":0,\"Morning\":1,\"Afternoon\":2,\"Evening\":3,\"Night\":4,\"Late_Night\":5})"
      ]
    },
    {
      "cell_type": "code",
      "execution_count": 60,
      "id": "2d259041-c67c-4b60-a98c-c73a88f5304c",
      "metadata": {
        "colab": {
          "base_uri": "https://localhost:8080/"
        },
        "id": "2d259041-c67c-4b60-a98c-c73a88f5304c",
        "outputId": "94a7f80b-387d-4ff4-f248-f0532aff1bb2"
      },
      "outputs": [
        {
          "output_type": "stream",
          "name": "stdout",
          "text": [
            "<class 'pandas.core.frame.DataFrame'>\n",
            "RangeIndex: 300153 entries, 0 to 300152\n",
            "Data columns (total 9 columns):\n",
            " #   Column            Non-Null Count   Dtype \n",
            "---  ------            --------------   ----- \n",
            " 0   airline           300153 non-null  int64 \n",
            " 1   source_city       300153 non-null  int64 \n",
            " 2   departure_time    300153 non-null  int64 \n",
            " 3   stops             300153 non-null  object\n",
            " 4   arrival_time      300153 non-null  int64 \n",
            " 5   destination_city  300153 non-null  int64 \n",
            " 6   class             300153 non-null  int64 \n",
            " 7   days_left         300153 non-null  int64 \n",
            " 8   price             300153 non-null  int64 \n",
            "dtypes: int64(8), object(1)\n",
            "memory usage: 20.6+ MB\n"
          ]
        }
      ],
      "source": [
        "df.info()"
      ]
    },
    {
      "cell_type": "code",
      "execution_count": 61,
      "id": "ce1a1f74-c3f5-4177-80aa-370426ff2ea4",
      "metadata": {
        "colab": {
          "base_uri": "https://localhost:8080/"
        },
        "id": "ce1a1f74-c3f5-4177-80aa-370426ff2ea4",
        "outputId": "a28a408e-fe6e-423a-dcc4-be7f12010d88"
      },
      "outputs": [
        {
          "output_type": "execute_result",
          "data": {
            "text/plain": [
              "array(['zero', 'one', 'two_or_more'], dtype=object)"
            ]
          },
          "metadata": {},
          "execution_count": 61
        }
      ],
      "source": [
        "df[\"stops\"].unique()"
      ]
    },
    {
      "cell_type": "code",
      "execution_count": 62,
      "id": "28ebc633-f22a-43e9-b5b4-e13343b7469c",
      "metadata": {
        "id": "28ebc633-f22a-43e9-b5b4-e13343b7469c"
      },
      "outputs": [],
      "source": [
        "df[\"stops\"] = df[\"stops\"].map({\"zero\":0 , \"one\":1 , \"two_or_more\":2})"
      ]
    },
    {
      "cell_type": "code",
      "execution_count": 63,
      "id": "d383e5c0-9233-4326-9d4c-088fadb08d08",
      "metadata": {
        "colab": {
          "base_uri": "https://localhost:8080/",
          "height": 366
        },
        "id": "d383e5c0-9233-4326-9d4c-088fadb08d08",
        "outputId": "edaad588-9b7d-425f-cf9f-e4c0292f3283"
      },
      "outputs": [
        {
          "output_type": "execute_result",
          "data": {
            "text/plain": [
              "airline             0\n",
              "source_city         0\n",
              "departure_time      0\n",
              "stops               0\n",
              "arrival_time        0\n",
              "destination_city    0\n",
              "class               0\n",
              "days_left           0\n",
              "price               0\n",
              "dtype: int64"
            ],
            "text/html": [
              "<div>\n",
              "<style scoped>\n",
              "    .dataframe tbody tr th:only-of-type {\n",
              "        vertical-align: middle;\n",
              "    }\n",
              "\n",
              "    .dataframe tbody tr th {\n",
              "        vertical-align: top;\n",
              "    }\n",
              "\n",
              "    .dataframe thead th {\n",
              "        text-align: right;\n",
              "    }\n",
              "</style>\n",
              "<table border=\"1\" class=\"dataframe\">\n",
              "  <thead>\n",
              "    <tr style=\"text-align: right;\">\n",
              "      <th></th>\n",
              "      <th>0</th>\n",
              "    </tr>\n",
              "  </thead>\n",
              "  <tbody>\n",
              "    <tr>\n",
              "      <th>airline</th>\n",
              "      <td>0</td>\n",
              "    </tr>\n",
              "    <tr>\n",
              "      <th>source_city</th>\n",
              "      <td>0</td>\n",
              "    </tr>\n",
              "    <tr>\n",
              "      <th>departure_time</th>\n",
              "      <td>0</td>\n",
              "    </tr>\n",
              "    <tr>\n",
              "      <th>stops</th>\n",
              "      <td>0</td>\n",
              "    </tr>\n",
              "    <tr>\n",
              "      <th>arrival_time</th>\n",
              "      <td>0</td>\n",
              "    </tr>\n",
              "    <tr>\n",
              "      <th>destination_city</th>\n",
              "      <td>0</td>\n",
              "    </tr>\n",
              "    <tr>\n",
              "      <th>class</th>\n",
              "      <td>0</td>\n",
              "    </tr>\n",
              "    <tr>\n",
              "      <th>days_left</th>\n",
              "      <td>0</td>\n",
              "    </tr>\n",
              "    <tr>\n",
              "      <th>price</th>\n",
              "      <td>0</td>\n",
              "    </tr>\n",
              "  </tbody>\n",
              "</table>\n",
              "</div><br><label><b>dtype:</b> int64</label>"
            ]
          },
          "metadata": {},
          "execution_count": 63
        }
      ],
      "source": [
        "df.isnull().sum()"
      ]
    },
    {
      "cell_type": "code",
      "execution_count": 64,
      "id": "6c8550b0-da7c-47d6-a907-c64570daeda6",
      "metadata": {
        "id": "6c8550b0-da7c-47d6-a907-c64570daeda6"
      },
      "outputs": [],
      "source": [
        "corr_matrix = df.corr()"
      ]
    },
    {
      "cell_type": "code",
      "execution_count": 65,
      "id": "a5ad2090-5763-49b1-9325-63d56c237b2f",
      "metadata": {
        "colab": {
          "base_uri": "https://localhost:8080/",
          "height": 641
        },
        "id": "a5ad2090-5763-49b1-9325-63d56c237b2f",
        "outputId": "186e29ab-99b1-44ab-c9c7-a1d1d9af342e"
      },
      "outputs": [
        {
          "output_type": "display_data",
          "data": {
            "text/plain": [
              "<Figure size 800x600 with 2 Axes>"
            ],
            "image/png": "[encoded data removed]"
          },
          "metadata": {}
        }
      ],
      "source": [
        "import seaborn as sns\n",
        "import matplotlib.pyplot as plt\n",
        "\n",
        "plt.figure(figsize=(8, 6))\n",
        "sns.heatmap(corr_matrix, annot=True, cmap='coolwarm', linewidths=0.5)\n",
        "plt.title(\"Correlation Matrix Heatmap\")\n",
        "plt.show()\n"
      ]
    },
    {
      "cell_type": "code",
      "execution_count": 66,
      "id": "67f920f2-f547-43ea-a28a-c11323446d6e",
      "metadata": {
        "id": "67f920f2-f547-43ea-a28a-c11323446d6e"
      },
      "outputs": [],
      "source": [
        "import sklearn"
      ]
    },
    {
      "cell_type": "code",
      "execution_count": 67,
      "id": "002e8e0d-4d0b-4740-a104-dfebcc59da01",
      "metadata": {
        "id": "002e8e0d-4d0b-4740-a104-dfebcc59da01"
      },
      "outputs": [],
      "source": [
        "from sklearn.model_selection import train_test_split"
      ]
    },
    {
      "cell_type": "code",
      "execution_count": 68,
      "id": "91c1c099-80bb-4a90-b708-72d3f8b66562",
      "metadata": {
        "id": "91c1c099-80bb-4a90-b708-72d3f8b66562"
      },
      "outputs": [],
      "source": [
        "X = df.drop([\"price\"],axis = 1)"
      ]
    },
    {
      "cell_type": "code",
      "execution_count": 69,
      "id": "6879bd48-41da-4e2b-9225-5d8e62720ec2",
      "metadata": {
        "id": "6879bd48-41da-4e2b-9225-5d8e62720ec2"
      },
      "outputs": [],
      "source": [
        "y = df[\"price\"]"
      ]
    },
    {
      "cell_type": "code",
      "execution_count": 70,
      "id": "c58a0179-bcfb-482c-8d1b-4d46cd788ea2",
      "metadata": {
        "id": "c58a0179-bcfb-482c-8d1b-4d46cd788ea2"
      },
      "outputs": [],
      "source": [
        "X_train,X_test,y_train,y_test = train_test_split(X,y,test_size = 0.3 , random_state = 42)"
      ]
    },
    {
      "cell_type": "code",
      "execution_count": 71,
      "id": "40d6fe45-2bcc-459f-a9ac-60a1d1ff1adc",
      "metadata": {
        "colab": {
          "base_uri": "https://localhost:8080/"
        },
        "id": "40d6fe45-2bcc-459f-a9ac-60a1d1ff1adc",
        "outputId": "5401e008-a12b-487d-ddcb-a813218dd7cf"
      },
      "outputs": [
        {
          "output_type": "stream",
          "name": "stdout",
          "text": [
            "MAE (Price): 2159.422662010444\n",
            "R2 (Price): 0.9621325572539074\n"
          ]
        }
      ],
      "source": [
        "from sklearn.ensemble import RandomForestRegressor\n",
        "from sklearn.metrics import mean_absolute_error, r2_score\n",
        "\n",
        "model_price = RandomForestRegressor(random_state=42)\n",
        "model_price.fit(X_train, y_train)\n",
        "pred_price = model_price.predict(X_test)\n",
        "\n",
        "print(\"MAE (Price):\", mean_absolute_error(y_test, pred_price))\n",
        "print(\"R2 (Price):\", r2_score(y_test, pred_price))\n"
      ]
    },
    {
      "cell_type": "code",
      "execution_count": 72,
      "id": "759e80f1-dd06-4bca-9d92-5eeceee4d0aa",
      "metadata": {
        "id": "759e80f1-dd06-4bca-9d92-5eeceee4d0aa"
      },
      "outputs": [],
      "source": [
        "model = RandomForestRegressor(random_state=42)\n",
        "\n",
        "param_grid = {\n",
        "    'n_estimators': [50, 100],          # Reduced: just 2 values\n",
        "    'max_depth': [None, 10, 20],        # Removed the deepest option\n",
        "    'min_samples_split': [2, 5],        # Less combinations\n",
        "    'min_samples_leaf': [1, 2],         # Fewer options\n",
        "    'max_features': ['sqrt']            # Fixed to sqrt (best for regression)\n",
        "}\n"
      ]
    },
    {
      "cell_type": "code",
      "execution_count": 73,
      "id": "441b3556-cd32-42ee-88ac-7d121cecd305",
      "metadata": {
        "colab": {
          "base_uri": "https://localhost:8080/"
        },
        "id": "441b3556-cd32-42ee-88ac-7d121cecd305",
        "outputId": "8abc746b-f99e-499e-c5d8-fcc828305bc1"
      },
      "outputs": [
        {
          "output_type": "stream",
          "name": "stdout",
          "text": [
            "Fitting 3 folds for each of 24 candidates, totalling 72 fits\n",
            "Best Hyperparameters: {'max_depth': 20, 'max_features': 'sqrt', 'min_samples_leaf': 2, 'min_samples_split': 5, 'n_estimators': 100}\n",
            "Best R2 Score: 0.9684931520938668\n"
          ]
        }
      ],
      "source": [
        "from sklearn.model_selection import GridSearchCV\n",
        "\n",
        "grid_search = GridSearchCV(estimator=model, param_grid=param_grid,\n",
        "                           cv=3, scoring='r2', n_jobs=-1, verbose=2)\n",
        "\n",
        "grid_search.fit(X_train, y_train)\n",
        "\n",
        "print(\"Best Hyperparameters:\", grid_search.best_params_)\n",
        "print(\"Best R2 Score:\", grid_search.best_score_)\n"
      ]
    },
    {
      "cell_type": "markdown",
      "source": [
        "best_model = grid_search.best_estimator_\n",
        "y_pred = best_model.predict(X_test)\n",
        "\n",
        "print(\"Test R2:\", r2_score(y_test, y_pred))\n",
        "print(\"Test MAE:\", mean_absolute_error(y_test, y_pred))\n"
      ],
      "metadata": {
        "id": "ecf0a1e2-8f0f-4df7-accd-da7ecbecf168"
      },
      "id": "ecf0a1e2-8f0f-4df7-accd-da7ecbecf168"
    },
    {
      "cell_type": "code",
      "source": [
        "best_model = grid_search.best_estimator_\n",
        "y_pred = best_model.predict(X_test)\n",
        "\n",
        "print(\"Test R2:\", r2_score(y_test, y_pred))\n",
        "print(\"Test MAE:\", mean_absolute_error(y_test, y_pred))"
      ],
      "metadata": {
        "colab": {
          "base_uri": "https://localhost:8080/"
        },
        "id": "9l42wstuBx2u",
        "outputId": "c7262771-0f32-4773-cf92-4391007741b6"
      },
      "id": "9l42wstuBx2u",
      "execution_count": 85,
      "outputs": [
        {
          "output_type": "stream",
          "name": "stdout",
          "text": [
            "Test R2: 0.968515198844391\n",
            "Test MAE: 2088.4681220849457\n"
          ]
        }
      ]
    },
    {
      "cell_type": "code",
      "source": [
        "import pickle\n",
        "\n",
        "# Save the best model\n",
        "with open('best_price_model.pkl', 'wb') as f:\n",
        "    pickle.dump(best_model, f)\n",
        "\n",
        "print(\"✅ Model saved as best_price_model.pkl\")\n"
      ],
      "metadata": {
        "colab": {
          "base_uri": "https://localhost:8080/"
        },
        "id": "LlxwCLIECEU_",
        "outputId": "e3ff7b89-5f38-4871-bd1d-462a96e9eac8"
      },
      "id": "LlxwCLIECEU_",
      "execution_count": 106,
      "outputs": [
        {
          "output_type": "stream",
          "name": "stdout",
          "text": [
            "✅ Model saved as best_price_model.pkl\n"
          ]
        }
      ]
    },
    {
      "cell_type": "code",
      "execution_count": 108,
      "id": "Mandbbuhdj3p",
      "metadata": {
        "colab": {
          "base_uri": "https://localhost:8080/"
        },
        "id": "Mandbbuhdj3p",
        "outputId": "77920acf-c320-4fc1-8c85-7a2878010ad3"
      },
      "outputs": [
        {
          "output_type": "stream",
          "name": "stdout",
          "text": [
            "Writing app.py\n"
          ]
        }
      ],
      "source": [
        "%%writefile app.py\n",
        "import streamlit as st\n",
        "import numpy as np\n",
        "import pickle\n",
        "\n",
        "# --- Load the model ---\n",
        "with open('best_price_model.pkl', 'rb') as f:\n",
        "    model = pickle.load(f)\n",
        "\n",
        "# --- Streamlit UI ---\n",
        "st.set_page_config(page_title=\"Flight Price Prediction\", page_icon=\"✈️\", layout=\"centered\")\n",
        "st.title(\"✈️ Flight Price Prediction\")\n",
        "\n",
        "st.sidebar.header(\"Flight Details\")\n",
        "airline = st.sidebar.selectbox(\"Airline\", [\"AirAsia\", \"Indigo\", \"GO_FIRST\", \"SpiceJet\", \"Air_India\", \"Vistara\"])\n",
        "source = st.sidebar.selectbox(\"Source City\", [\"Delhi\", \"Hyderabad\", \"Bangalore\", \"Mumbai\", \"Kolkata\", \"Chennai\"])\n",
        "departure = st.sidebar.selectbox(\"Departure Time\", [\"Early_Morning\", \"Morning\", \"Afternoon\", \"Evening\", \"Night\", \"Late_Night\"])\n",
        "arrival = st.sidebar.selectbox(\"Arrival Time\", [\"Early_Morning\", \"Morning\", \"Afternoon\", \"Evening\", \"Night\", \"Late_Night\"])\n",
        "destination = st.sidebar.selectbox(\"Destination City\", [\"Delhi\", \"Hyderabad\", \"Mumbai\", \"Bangalore\", \"Chennai\", \"Kolkata\"])\n",
        "stops = st.sidebar.selectbox(\"Stops\", [\"zero\", \"one\", \"two_or_more\"])\n",
        "flight_class = st.sidebar.selectbox(\"Class\", [\"Economy\", \"Business\"])\n",
        "days_left = st.sidebar.slider(\"Days Left to Departure\", 0, 365, 30)\n",
        "\n",
        "# --- Mapping dictionaries (same as model training) ---\n",
        "airline_dict = {'AirAsia': 0, \"Indigo\": 1, \"GO_FIRST\": 2, \"SpiceJet\": 3, \"Air_India\": 4, \"Vistara\": 5}\n",
        "source_dict = {'Delhi': 0, \"Hyderabad\": 1, \"Bangalore\": 2, \"Mumbai\": 3, \"Kolkata\": 4, \"Chennai\": 5}\n",
        "departure_dict = {'Early_Morning': 0, \"Morning\": 1, \"Afternoon\": 2, \"Evening\": 3, \"Night\": 4, \"Late_Night\": 5}\n",
        "arrival_dict = {'Early_Morning': 0, \"Morning\": 1, \"Afternoon\": 2, \"Evening\": 3, \"Night\": 4, \"Late_Night\": 5}\n",
        "destination_dict = {'Delhi': 0, \"Hyderabad\": 1, \"Mumbai\": 2, \"Bangalore\": 3, \"Chennai\": 4, \"Kolkata\": 5}\n",
        "class_dict = {'Economy': 0, 'Business': 1}\n",
        "stops_dict = {'zero': 0, \"one\": 1, \"two_or_more\": 2}\n",
        "\n",
        "# --- Predict Button ---\n",
        "if st.button(\"🎯 Predict Price\"):\n",
        "    try:\n",
        "        # Prepare input array\n",
        "        input_features = np.array([[\n",
        "            airline_dict[airline],\n",
        "            source_dict[source],\n",
        "            departure_dict[departure],\n",
        "            arrival_dict[arrival],\n",
        "            destination_dict[destination],\n",
        "            stops_dict[stops],\n",
        "            class_dict[flight_class],\n",
        "            days_left\n",
        "        ]])\n",
        "\n",
        "        # Predict\n",
        "        predicted_price = model.predict(input_features)[0]\n",
        "        st.success(f\"💸 Estimated Flight Price: ₹{round(predicted_price, 2)}\")\n",
        "\n",
        "    except Exception as e:\n",
        "        st.error(f\"Prediction Error: {e}\")\n",
        "\n",
        "# --- Footer ---\n",
        "st.markdown(\"---\")\n",
        "st.caption(\"Made with ❤️ using Streamlit\")\n"
      ]
    },
    {
      "cell_type": "code",
      "source": [
        "!pip install streamlit pyngrok\n",
        "\n",
        "from pyngrok import ngrok\n",
        "import threading\n",
        "import os\n",
        "\n",
        "# Set your ngrok authtoken (run this only once per session)\n",
        "ngrok.set_auth_token(\"YOUR_TOKEN_HERE\")\n",
        "\n",
        "\n",
        "\n",
        "\n"
      ],
      "metadata": {
        "colab": {
          "base_uri": "https://localhost:8080/"
        },
        "id": "2aALcS4MHsBl",
        "outputId": "e95771c2-75e8-4c36-8405-a598e7f7a9f4"
      },
      "id": "2aALcS4MHsBl",
      "execution_count": 101,
      "outputs": [
        {
          "output_type": "stream",
          "name": "stdout",
          "text": [
            "Requirement already satisfied: streamlit in /usr/local/lib/python3.11/dist-packages (1.45.1)\n",
            "Requirement already satisfied: pyngrok in /usr/local/lib/python3.11/dist-packages (7.2.9)\n",
            "Requirement already satisfied: altair<6,>=4.0 in /usr/local/lib/python3.11/dist-packages (from streamlit) (5.5.0)\n",
            "Requirement already satisfied: blinker<2,>=1.5.0 in /usr/local/lib/python3.11/dist-packages (from streamlit) (1.9.0)\n",
            "Requirement already satisfied: cachetools<6,>=4.0 in /usr/local/lib/python3.11/dist-packages (from streamlit) (5.5.2)\n",
            "Requirement already satisfied: click<9,>=7.0 in /usr/local/lib/python3.11/dist-packages (from streamlit) (8.2.1)\n",
            "Requirement already satisfied: numpy<3,>=1.23 in /usr/local/lib/python3.11/dist-packages (from streamlit) (2.0.2)\n",
            "Requirement already satisfied: packaging<25,>=20 in /usr/local/lib/python3.11/dist-packages (from streamlit) (24.2)\n",
            "Requirement already satisfied: pandas<3,>=1.4.0 in /usr/local/lib/python3.11/dist-packages (from streamlit) (2.2.2)\n",
            "Requirement already satisfied: pillow<12,>=7.1.0 in /usr/local/lib/python3.11/dist-packages (from streamlit) (11.2.1)\n",
            "Requirement already satisfied: protobuf<7,>=3.20 in /usr/local/lib/python3.11/dist-packages (from streamlit) (5.29.4)\n",
            "Requirement already satisfied: pyarrow>=7.0 in /usr/local/lib/python3.11/dist-packages (from streamlit) (18.1.0)\n",
            "Requirement already satisfied: requests<3,>=2.27 in /usr/local/lib/python3.11/dist-packages (from streamlit) (2.32.3)\n",
            "Requirement already satisfied: tenacity<10,>=8.1.0 in /usr/local/lib/python3.11/dist-packages (from streamlit) (9.1.2)\n",
            "Requirement already satisfied: toml<2,>=0.10.1 in /usr/local/lib/python3.11/dist-packages (from streamlit) (0.10.2)\n",
            "Requirement already satisfied: typing-extensions<5,>=4.4.0 in /usr/local/lib/python3.11/dist-packages (from streamlit) (4.13.2)\n",
            "Requirement already satisfied: watchdog<7,>=2.1.5 in /usr/local/lib/python3.11/dist-packages (from streamlit) (6.0.0)\n",
            "Requirement already satisfied: gitpython!=3.1.19,<4,>=3.0.7 in /usr/local/lib/python3.11/dist-packages (from streamlit) (3.1.44)\n",
            "Requirement already satisfied: pydeck<1,>=0.8.0b4 in /usr/local/lib/python3.11/dist-packages (from streamlit) (0.9.1)\n",
            "Requirement already satisfied: tornado<7,>=6.0.3 in /usr/local/lib/python3.11/dist-packages (from streamlit) (6.4.2)\n",
            "Requirement already satisfied: PyYAML>=5.1 in /usr/local/lib/python3.11/dist-packages (from pyngrok) (6.0.2)\n",
            "Requirement already satisfied: jinja2 in /usr/local/lib/python3.11/dist-packages (from altair<6,>=4.0->streamlit) (3.1.6)\n",
            "Requirement already satisfied: jsonschema>=3.0 in /usr/local/lib/python3.11/dist-packages (from altair<6,>=4.0->streamlit) (4.23.0)\n",
            "Requirement already satisfied: narwhals>=1.14.2 in /usr/local/lib/python3.11/dist-packages (from altair<6,>=4.0->streamlit) (1.40.0)\n",
            "Requirement already satisfied: gitdb<5,>=4.0.1 in /usr/local/lib/python3.11/dist-packages (from gitpython!=3.1.19,<4,>=3.0.7->streamlit) (4.0.12)\n",
            "Requirement already satisfied: python-dateutil>=2.8.2 in /usr/local/lib/python3.11/dist-packages (from pandas<3,>=1.4.0->streamlit) (2.9.0.post0)\n",
            "Requirement already satisfied: pytz>=2020.1 in /usr/local/lib/python3.11/dist-packages (from pandas<3,>=1.4.0->streamlit) (2025.2)\n",
            "Requirement already satisfied: tzdata>=2022.7 in /usr/local/lib/python3.11/dist-packages (from pandas<3,>=1.4.0->streamlit) (2025.2)\n",
            "Requirement already satisfied: charset-normalizer<4,>=2 in /usr/local/lib/python3.11/dist-packages (from requests<3,>=2.27->streamlit) (3.4.2)\n",
            "Requirement already satisfied: idna<4,>=2.5 in /usr/local/lib/python3.11/dist-packages (from requests<3,>=2.27->streamlit) (3.10)\n",
            "Requirement already satisfied: urllib3<3,>=1.21.1 in /usr/local/lib/python3.11/dist-packages (from requests<3,>=2.27->streamlit) (2.4.0)\n",
            "Requirement already satisfied: certifi>=2017.4.17 in /usr/local/lib/python3.11/dist-packages (from requests<3,>=2.27->streamlit) (2025.4.26)\n",
            "Requirement already satisfied: smmap<6,>=3.0.1 in /usr/local/lib/python3.11/dist-packages (from gitdb<5,>=4.0.1->gitpython!=3.1.19,<4,>=3.0.7->streamlit) (5.0.2)\n",
            "Requirement already satisfied: MarkupSafe>=2.0 in /usr/local/lib/python3.11/dist-packages (from jinja2->altair<6,>=4.0->streamlit) (3.0.2)\n",
            "Requirement already satisfied: attrs>=22.2.0 in /usr/local/lib/python3.11/dist-packages (from jsonschema>=3.0->altair<6,>=4.0->streamlit) (25.3.0)\n",
            "Requirement already satisfied: jsonschema-specifications>=2023.03.6 in /usr/local/lib/python3.11/dist-packages (from jsonschema>=3.0->altair<6,>=4.0->streamlit) (2025.4.1)\n",
            "Requirement already satisfied: referencing>=0.28.4 in /usr/local/lib/python3.11/dist-packages (from jsonschema>=3.0->altair<6,>=4.0->streamlit) (0.36.2)\n",
            "Requirement already satisfied: rpds-py>=0.7.1 in /usr/local/lib/python3.11/dist-packages (from jsonschema>=3.0->altair<6,>=4.0->streamlit) (0.25.1)\n",
            "Requirement already satisfied: six>=1.5 in /usr/local/lib/python3.11/dist-packages (from python-dateutil>=2.8.2->pandas<3,>=1.4.0->streamlit) (1.17.0)\n"
          ]
        }
      ]
    },
    {
      "cell_type": "code",
      "execution_count": 109,
      "id": "Lz2iXTFesHlh",
      "metadata": {
        "id": "Lz2iXTFesHlh",
        "colab": {
          "base_uri": "https://localhost:8080/"
        },
        "outputId": "924dcd1e-cb80-4f1d-cdaf-86e8c2a9452f"
      },
      "outputs": [
        {
          "output_type": "stream",
          "name": "stdout",
          "text": [
            "Streamlit URL: NgrokTunnel: \"https://6c5f-34-139-186-190.ngrok-free.app\" -> \"http://localhost:8501\"\n"
          ]
        }
      ],
      "source": [
        "import os\n",
        "import threading\n",
        "\n",
        "# Connect to ngrok tunnel on port 8501\n",
        "public_url = ngrok.connect(8501)\n",
        "print(f\"Streamlit URL: {public_url}\")\n",
        "\n",
        "# Run Streamlit app in a separate thread\n",
        "def run():\n",
        "    os.system(\"streamlit run app.py\")\n",
        "\n",
        "threading.Thread(target=run).start()\n"
      ]
    }
  ],
  "metadata": {
    "accelerator": "GPU",
    "colab": {
      "gpuType": "T4",
      "provenance": []
    },
    "kernelspec": {
      "display_name": "Python 3",
      "name": "python3"
    },
    "language_info": {
      "codemirror_mode": {
        "name": "ipython",
        "version": 3
      },
      "file_extension": ".py",
      "mimetype": "text/x-python",
      "name": "python",
      "nbconvert_exporter": "python",
      "pygments_lexer": "ipython3",
      "version": "3.12.4"
    }
  },
  "nbformat": 4,
  "nbformat_minor": 5
}